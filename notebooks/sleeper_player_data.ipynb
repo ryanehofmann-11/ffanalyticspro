{
 "cells": [
  {
   "cell_type": "code",
   "execution_count": 3,
   "id": "0f58af58-ed05-4914-88c8-faae23613427",
   "metadata": {},
   "outputs": [],
   "source": [
    "import requests\n",
    "import json\n",
    "import pandas as pd\n"
   ]
  },
  {
   "cell_type": "code",
   "execution_count": 5,
   "id": "31f236e6-3647-4614-8335-f6f630752e05",
   "metadata": {},
   "outputs": [
    {
     "name": "stdout",
     "output_type": "stream",
     "text": [
      "✅ Data pulled successfully\n"
     ]
    }
   ],
   "source": [
    "# Step 1: Request the player data\n",
    "url = \"https://api.sleeper.app/v1/players/nfl\"\n",
    "response = requests.get(url)\n",
    "\n",
    "# Step 2: Parse response\n",
    "if response.status_code == 200:\n",
    "    data = response.json()\n",
    "    print(\"✅ Data pulled successfully\")\n",
    "else:\n",
    "    print(\"❌ Error fetching data\")"
   ]
  },
  {
   "cell_type": "code",
   "execution_count": 7,
   "id": "ae346dba-b4f0-4bc5-82b1-b7a27c73c010",
   "metadata": {},
   "outputs": [
    {
     "data": {
      "text/html": [
       "<div>\n",
       "<style scoped>\n",
       "    .dataframe tbody tr th:only-of-type {\n",
       "        vertical-align: middle;\n",
       "    }\n",
       "\n",
       "    .dataframe tbody tr th {\n",
       "        vertical-align: top;\n",
       "    }\n",
       "\n",
       "    .dataframe thead th {\n",
       "        text-align: right;\n",
       "    }\n",
       "</style>\n",
       "<table border=\"1\" class=\"dataframe\">\n",
       "  <thead>\n",
       "    <tr style=\"text-align: right;\">\n",
       "      <th></th>\n",
       "      <th>player_id</th>\n",
       "      <th>full_name</th>\n",
       "      <th>position</th>\n",
       "      <th>team</th>\n",
       "      <th>age</th>\n",
       "      <th>status</th>\n",
       "      <th>injury_status</th>\n",
       "    </tr>\n",
       "  </thead>\n",
       "  <tbody>\n",
       "    <tr>\n",
       "      <th>0</th>\n",
       "      <td>6462</td>\n",
       "      <td>Ellis Richardson</td>\n",
       "      <td>TE</td>\n",
       "      <td>None</td>\n",
       "      <td>26.0</td>\n",
       "      <td>Active</td>\n",
       "      <td>None</td>\n",
       "    </tr>\n",
       "    <tr>\n",
       "      <th>1</th>\n",
       "      <td>11255</td>\n",
       "      <td>Nick Amoah</td>\n",
       "      <td>OL</td>\n",
       "      <td>None</td>\n",
       "      <td>NaN</td>\n",
       "      <td>Active</td>\n",
       "      <td>None</td>\n",
       "    </tr>\n",
       "    <tr>\n",
       "      <th>2</th>\n",
       "      <td>8842</td>\n",
       "      <td>Malkelm Morrison</td>\n",
       "      <td>CB</td>\n",
       "      <td>None</td>\n",
       "      <td>NaN</td>\n",
       "      <td>Injured Reserve</td>\n",
       "      <td>None</td>\n",
       "    </tr>\n",
       "    <tr>\n",
       "      <th>3</th>\n",
       "      <td>7926</td>\n",
       "      <td>Carl Tucker</td>\n",
       "      <td>TE</td>\n",
       "      <td>None</td>\n",
       "      <td>24.0</td>\n",
       "      <td>Active</td>\n",
       "      <td>None</td>\n",
       "    </tr>\n",
       "    <tr>\n",
       "      <th>4</th>\n",
       "      <td>1875</td>\n",
       "      <td>C.J. Mosley</td>\n",
       "      <td>LB</td>\n",
       "      <td>None</td>\n",
       "      <td>32.0</td>\n",
       "      <td>Active</td>\n",
       "      <td>Questionable</td>\n",
       "    </tr>\n",
       "  </tbody>\n",
       "</table>\n",
       "</div>"
      ],
      "text/plain": [
       "  player_id         full_name position  team   age           status  \\\n",
       "0      6462  Ellis Richardson       TE  None  26.0           Active   \n",
       "1     11255        Nick Amoah       OL  None   NaN           Active   \n",
       "2      8842  Malkelm Morrison       CB  None   NaN  Injured Reserve   \n",
       "3      7926       Carl Tucker       TE  None  24.0           Active   \n",
       "4      1875       C.J. Mosley       LB  None  32.0           Active   \n",
       "\n",
       "  injury_status  \n",
       "0          None  \n",
       "1          None  \n",
       "2          None  \n",
       "3          None  \n",
       "4  Questionable  "
      ]
     },
     "execution_count": 7,
     "metadata": {},
     "output_type": "execute_result"
    }
   ],
   "source": [
    "# Step 3: Extract and preview a sample\n",
    "players = []\n",
    "\n",
    "for player_id, info in list(data.items())[:100]:  # Limit to 100\n",
    "    players.append({\n",
    "        \"player_id\": player_id,\n",
    "        \"full_name\": info.get(\"full_name\"),\n",
    "        \"position\": info.get(\"position\"),\n",
    "        \"team\": info.get(\"team\"),\n",
    "        \"age\": info.get(\"age\"),\n",
    "        \"status\": info.get(\"status\"),\n",
    "        \"injury_status\": info.get(\"injury_status\"),\n",
    "    })\n",
    "\n",
    "df = pd.DataFrame(players)\n",
    "df.head()\n"
   ]
  },
  {
   "cell_type": "code",
   "execution_count": 9,
   "id": "9269dbaa-33dd-4616-9f0c-5cd288f07bdf",
   "metadata": {},
   "outputs": [
    {
     "name": "stdout",
     "output_type": "stream",
     "text": [
      "✅ Saved to /data/sleeper_players_sample.csv\n"
     ]
    }
   ],
   "source": [
    "df.to_csv(\"../data/sleeper_players_sample.csv\", index=False)\n",
    "print(\"✅ Saved to /data/sleeper_players_sample.csv\")\n"
   ]
  },
  {
   "cell_type": "code",
   "execution_count": 11,
   "id": "fa6b7cc5-5a28-4ead-9ac6-2366b1321296",
   "metadata": {},
   "outputs": [
    {
     "name": "stdout",
     "output_type": "stream",
     "text": [
      "✅ File saved to: ../data/sleeper_players_sample.csv\n",
      "📁 Files in /data: ['sleeper_players_sample.csv']\n"
     ]
    }
   ],
   "source": [
    "import os\n",
    "\n",
    "# Just to be sure, remake the folder safely\n",
    "os.makedirs(\"../data\", exist_ok=True)\n",
    "\n",
    "# Save the file directly\n",
    "file_path = \"../data/sleeper_players_sample.csv\"\n",
    "df.to_csv(file_path, index=False)\n",
    "\n",
    "# Confirm it was saved\n",
    "print(\"✅ File saved to:\", file_path)\n",
    "print(\"📁 Files in /data:\", os.listdir(\"../data\"))\n"
   ]
  },
  {
   "cell_type": "code",
   "execution_count": null,
   "id": "fd61f3be-e1d4-41c3-b602-392d00873c72",
   "metadata": {},
   "outputs": [],
   "source": []
  }
 ],
 "metadata": {
  "kernelspec": {
   "display_name": "Python [conda env:base] *",
   "language": "python",
   "name": "conda-base-py"
  },
  "language_info": {
   "codemirror_mode": {
    "name": "ipython",
    "version": 3
   },
   "file_extension": ".py",
   "mimetype": "text/x-python",
   "name": "python",
   "nbconvert_exporter": "python",
   "pygments_lexer": "ipython3",
   "version": "3.12.7"
  }
 },
 "nbformat": 4,
 "nbformat_minor": 5
}
